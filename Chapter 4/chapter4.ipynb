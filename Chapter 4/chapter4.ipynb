{
 "cells": [
  {
   "cell_type": "code",
   "execution_count": 2,
   "metadata": {},
   "outputs": [
    {
     "data": {
      "text/plain": [
       "2"
      ]
     },
     "execution_count": 2,
     "metadata": {},
     "output_type": "execute_result"
    }
   ],
   "source": [
    "def count_bits(x):\n",
    "    num_bits = 0\n",
    "    while x:\n",
    "        num_bits += x & 1\n",
    "        x >>= 1\n",
    "    return num_bits\n",
    "\n",
    "count_bits(3)"
   ]
  },
  {
   "cell_type": "code",
   "execution_count": 3,
   "metadata": {},
   "outputs": [
    {
     "data": {
      "text/plain": [
       "0"
      ]
     },
     "execution_count": 3,
     "metadata": {},
     "output_type": "execute_result"
    }
   ],
   "source": [
    "def parity(x):\n",
    "    result = 0\n",
    "    while x:\n",
    "        result ^= x & 1\n",
    "        x >>= 1\n",
    "    return result\n",
    "\n",
    "parity(3)"
   ]
  },
  {
   "cell_type": "code",
   "execution_count": 4,
   "metadata": {},
   "outputs": [
    {
     "data": {
      "text/plain": [
       "1"
      ]
     },
     "execution_count": 4,
     "metadata": {},
     "output_type": "execute_result"
    }
   ],
   "source": [
    "def parity2(x):\n",
    "    result = 0\n",
    "    while x:\n",
    "        result ^= 1\n",
    "        x &= x -1\n",
    "    return result\n",
    "\n",
    "parity2(4)\n",
    "\n",
    "## Time complexity is O(k), where k is the number of bits set to 1. This is cuz of x &= x - 1 which removes the lowest set bit in a single operation."
   ]
  },
  {
   "cell_type": "code",
   "execution_count": 6,
   "metadata": {},
   "outputs": [
    {
     "data": {
      "text/plain": [
       "0"
      ]
     },
     "execution_count": 6,
     "metadata": {},
     "output_type": "execute_result"
    }
   ],
   "source": [
    "def parity3(x):\n",
    "    x ^= x >> 32\n",
    "    x ^= x >> 16\n",
    "    x ^= x >> 8\n",
    "    x ^= x >> 4\n",
    "    x ^= x >> 2\n",
    "    x ^= x >> 1\n",
    "    return x & 0x1\n",
    "\n",
    "## Time complexity is O(log n), where n is the word size.\n",
    "parity3(3)"
   ]
  },
  {
   "cell_type": "code",
   "execution_count": 12,
   "metadata": {},
   "outputs": [
    {
     "data": {
      "text/plain": [
       "0"
      ]
     },
     "execution_count": 12,
     "metadata": {},
     "output_type": "execute_result"
    }
   ],
   "source": [
    "def right_propagate(x):\n",
    "    while x:\n",
    "        return x | (x - 1)\n",
    "    return x\n",
    "\n",
    "right_propagate(0)"
   ]
  },
  {
   "cell_type": "code",
   "execution_count": 15,
   "metadata": {},
   "outputs": [
    {
     "data": {
      "text/plain": [
       "13"
      ]
     },
     "execution_count": 15,
     "metadata": {},
     "output_type": "execute_result"
    }
   ],
   "source": [
    "def mod_power_of_two(x, y):\n",
    "    while (x > y):\n",
    "        return x ^ y\n",
    "    return x\n",
    "\n",
    "mod_power_of_two(77, 64)"
   ]
  },
  {
   "cell_type": "code",
   "execution_count": 23,
   "metadata": {},
   "outputs": [
    {
     "data": {
      "text/plain": [
       "True"
      ]
     },
     "execution_count": 23,
     "metadata": {},
     "output_type": "execute_result"
    }
   ],
   "source": [
    "def is_power_of_two(x):\n",
    "    if (x & (x-1)) == 0:\n",
    "        return True\n",
    "    return False\n",
    "\n",
    "is_power_of_two(16)"
   ]
  },
  {
   "cell_type": "code",
   "execution_count": 26,
   "metadata": {},
   "outputs": [
    {
     "data": {
      "text/plain": [
       "0.0625"
      ]
     },
     "execution_count": 26,
     "metadata": {},
     "output_type": "execute_result"
    }
   ],
   "source": [
    "def x_power_y(x, y):\n",
    "    result, power = 1.0, y\n",
    "    if power < 0:\n",
    "        power, x = -power, 1.0 / x\n",
    "    while power:\n",
    "        if power & 1:\n",
    "            result *= x\n",
    "        x, power = x * x, power >> 1\n",
    "    return result\n",
    "\n",
    "x_power_y(2, -4)"
   ]
  },
  {
   "cell_type": "code",
   "execution_count": 33,
   "metadata": {},
   "outputs": [
    {
     "data": {
      "text/plain": [
       "-42.0"
      ]
     },
     "execution_count": 33,
     "metadata": {},
     "output_type": "execute_result"
    }
   ],
   "source": [
    "def reverse(x):\n",
    "    ans, x_remaining = 0, abs(x)\n",
    "    while x_remaining:\n",
    "        ans *= 10\n",
    "        temp = x_remaining % 10\n",
    "        ans += temp\n",
    "        x_remaining -= temp\n",
    "        x_remaining /= 10\n",
    "    return -ans if x < 0 else ans\n",
    "\n",
    "reverse(-24)"
   ]
  },
  {
   "cell_type": "code",
   "execution_count": null,
   "metadata": {},
   "outputs": [],
   "source": [
    "def reverse(x):\n",
    "    "
   ]
  },
  {
   "cell_type": "code",
   "execution_count": 9,
   "metadata": {},
   "outputs": [
    {
     "name": "stdout",
     "output_type": "stream",
     "text": [
      "All test cases passed!\n"
     ]
    }
   ],
   "source": [
    "# import collections\n",
    "\n",
    "# Coordinate = collections.namedtuple('Coordinate', ('x','y'))\n",
    "\n",
    "class Coordinate():\n",
    "    def __init__(self, x, y):\n",
    "        self.x = x\n",
    "        self.y = y\n",
    "    def __eq__(self, other):\n",
    "        return self.x == other.x and self.y == other.y\n",
    "\n",
    "def is_rectangle(C1, C2, C3, C4):\n",
    "    x_set = set([C1.x, C2.x, C3.x, C4.x])\n",
    "    y_set = set([C1.y, C2.y, C3.y, C4.y])\n",
    "    return (C1 != C2 and C1 != C3 and C1 != C4 and C2 != C3 and C2 != C4 and C3 != C4\n",
    "            and len(x_set) == 2 and len(y_set) == 2)\n",
    "\n",
    "def test_is_rectangle():\n",
    "    # Test Case 1: Valid rectangle\n",
    "    assert is_rectangle(Coordinate(0, 0), Coordinate(0, 1), Coordinate(1, 0), Coordinate(1, 1)) == True, \"Test Case 1 Failed\"\n",
    "\n",
    "    # Test Case 2: Points are collinear (not a rectangle)\n",
    "    assert is_rectangle(Coordinate(0, 0), Coordinate(0, 1), Coordinate(0, 2), Coordinate(0, 3)) == False, \"Test Case 2 Failed\"\n",
    "\n",
    "    # Test Case 3: Points form a parallelogram, but not a rectangle\n",
    "    assert is_rectangle(Coordinate(0, 0), Coordinate(1, 1), Coordinate(2, 0), Coordinate(1, -1)) == False, \"Test Case 3 Failed\"\n",
    "\n",
    "    # Test Case 4: Duplicate points\n",
    "    assert is_rectangle(Coordinate(0, 0), Coordinate(0, 1), Coordinate(1, 1), Coordinate(0, 1)) == False, \"Test Case 4 Failed\"\n",
    "\n",
    "    # Test Case 5: Points form a valid rectangle with negative coordinates\n",
    "    assert is_rectangle(Coordinate(-1, -1), Coordinate(-1, 1), Coordinate(1, -1), Coordinate(1, 1)) == True, \"Test Case 5 Failed\"\n",
    "\n",
    "    # Test Case 6: Points form a square (valid rectangle)\n",
    "    assert is_rectangle(Coordinate(0, 0), Coordinate(0, 2), Coordinate(2, 0), Coordinate(2, 2)) == True, \"Test Case 6 Failed\"\n",
    "\n",
    "    # Test Case 7: Points do not form a rectangle (irregular quadrilateral)\n",
    "    assert is_rectangle(Coordinate(0, 0), Coordinate(1, 2), Coordinate(2, 1), Coordinate(3, 3)) == False, \"Test Case 7 Failed\"\n",
    "\n",
    "    # Test Case 8: Points are coincident (all the same point)\n",
    "    assert is_rectangle(Coordinate(1, 1), Coordinate(1, 1), Coordinate(1, 1), Coordinate(1, 1)) == False, \"Test Case 8 Failed\"\n",
    "\n",
    "    # Test Case 9: Points with only one unique x-coordinate\n",
    "    assert is_rectangle(Coordinate(0, 0), Coordinate(0, 1), Coordinate(0, 2), Coordinate(0, 3)) == False, \"Test Case 9 Failed\"\n",
    "\n",
    "    # Test Case 10: Points with only one unique y-coordinate\n",
    "    assert is_rectangle(Coordinate(0, 0), Coordinate(1, 0), Coordinate(2, 0), Coordinate(3, 0)) == False, \"Test Case 10 Failed\"\n",
    "\n",
    "    print(\"All test cases passed!\")\n",
    "\n",
    "# Run tests\n",
    "test_is_rectangle()"
   ]
  },
  {
   "cell_type": "code",
   "execution_count": null,
   "metadata": {},
   "outputs": [],
   "source": []
  },
  {
   "cell_type": "code",
   "execution_count": null,
   "metadata": {},
   "outputs": [],
   "source": []
  }
 ],
 "metadata": {
  "kernelspec": {
   "display_name": "lightnovelscraper",
   "language": "python",
   "name": "python3"
  },
  "language_info": {
   "codemirror_mode": {
    "name": "ipython",
    "version": 3
   },
   "file_extension": ".py",
   "mimetype": "text/x-python",
   "name": "python",
   "nbconvert_exporter": "python",
   "pygments_lexer": "ipython3",
   "version": "3.12.3"
  }
 },
 "nbformat": 4,
 "nbformat_minor": 2
}
